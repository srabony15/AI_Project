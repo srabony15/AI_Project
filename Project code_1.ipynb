{
 "cells": [
  {
   "cell_type": "code",
   "execution_count": 4,
   "id": "d13c949f",
   "metadata": {},
   "outputs": [
    {
     "name": "stdout",
     "output_type": "stream",
     "text": [
      "[[3 0 0 1]\n",
      " [0 1 3 2]\n",
      " [0 0 2 3]\n",
      " [0 0 0 4]]\n"
     ]
    }
   ],
   "source": [
    "import numpy as np\n",
    "\n",
    "def createSudokuBoard():\n",
    "    sudoku = np.array([[3,0,0,1],[0,1,3,2],[0,0,2,3],[0,0,0,4]])\n",
    "    return sudoku\n",
    "\n",
    "if __name__ == \"__main__\":\n",
    "   sudoku = createSudokuBoard()\n",
    "   print(sudoku)\n"
   ]
  },
  {
   "cell_type": "code",
   "execution_count": null,
   "id": "7dbfa340",
   "metadata": {},
   "outputs": [],
   "source": []
  }
 ],
 "metadata": {
  "kernelspec": {
   "display_name": "Python 3 (ipykernel)",
   "language": "python",
   "name": "python3"
  },
  "language_info": {
   "codemirror_mode": {
    "name": "ipython",
    "version": 3
   },
   "file_extension": ".py",
   "mimetype": "text/x-python",
   "name": "python",
   "nbconvert_exporter": "python",
   "pygments_lexer": "ipython3",
   "version": "3.9.12"
  }
 },
 "nbformat": 4,
 "nbformat_minor": 5
}

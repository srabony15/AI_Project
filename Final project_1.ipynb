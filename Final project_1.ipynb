{
 "cells": [
  {
   "cell_type": "code",
   "execution_count": 7,
   "id": "e8b7e539",
   "metadata": {},
   "outputs": [
    {
     "name": "stdout",
     "output_type": "stream",
     "text": [
      "250\n",
      "{'sunday-1930-0830': 0, 'sunday-1930-1000': 0, 'sunday-1930-1130': 0, 'sunday-1930-0100': 0, 'sunday-1930-0230': 0, 'sunday-2001-0830': 0, 'sunday-2001-1000': 0, 'sunday-2001-1130': 0, 'sunday-2001-0100': 0, 'sunday-2001-0230': 0, 'sunday-2002-0830': 0, 'sunday-2002-1000': 0, 'sunday-2002-1130': 0, 'sunday-2002-0100': 0, 'sunday-2002-0230': 0, 'sunday-2003-0830': 0, 'sunday-2003-1000': 0, 'sunday-2003-1130': 0, 'sunday-2003-0100': 0, 'sunday-2003-0230': 0, 'sunday-2101-0830': 0, 'sunday-2101-1000': 0, 'sunday-2101-1130': 0, 'sunday-2101-0100': 0, 'sunday-2101-0230': 0, 'sunday-2102-0830': 0, 'sunday-2102-1000': 0, 'sunday-2102-1130': 0, 'sunday-2102-0100': 0, 'sunday-2102-0230': 0, 'sunday-2103-0830': 0, 'sunday-2103-1000': 0, 'sunday-2103-1130': 0, 'sunday-2103-0100': 0, 'sunday-2103-0230': 0, 'sunday-2201-0830': 0, 'sunday-2201-1000': 0, 'sunday-2201-1130': 0, 'sunday-2201-0100': 0, 'sunday-2201-0230': 0, 'sunday-2202-0830': 0, 'sunday-2202-1000': 0, 'sunday-2202-1130': 0, 'sunday-2202-0100': 0, 'sunday-2202-0230': 0, 'sunday-2301-0830': 0, 'sunday-2301-1000': 0, 'sunday-2301-1130': 0, 'sunday-2301-0100': 0, 'sunday-2301-0230': 0, 'monday-1930-0830': 0, 'monday-1930-1000': 0, 'monday-1930-1130': 0, 'monday-1930-0100': 0, 'monday-1930-0230': 0, 'monday-2001-0830': 0, 'monday-2001-1000': 0, 'monday-2001-1130': 0, 'monday-2001-0100': 0, 'monday-2001-0230': 0, 'monday-2002-0830': 0, 'monday-2002-1000': 0, 'monday-2002-1130': 0, 'monday-2002-0100': 0, 'monday-2002-0230': 0, 'monday-2003-0830': 0, 'monday-2003-1000': 0, 'monday-2003-1130': 0, 'monday-2003-0100': 0, 'monday-2003-0230': 0, 'monday-2101-0830': 0, 'monday-2101-1000': 0, 'monday-2101-1130': 0, 'monday-2101-0100': 0, 'monday-2101-0230': 0, 'monday-2102-0830': 0, 'monday-2102-1000': 0, 'monday-2102-1130': 0, 'monday-2102-0100': 0, 'monday-2102-0230': 0, 'monday-2103-0830': 0, 'monday-2103-1000': 0, 'monday-2103-1130': 0, 'monday-2103-0100': 0, 'monday-2103-0230': 0, 'monday-2201-0830': 0, 'monday-2201-1000': 0, 'monday-2201-1130': 0, 'monday-2201-0100': 0, 'monday-2201-0230': 0, 'monday-2202-0830': 0, 'monday-2202-1000': 0, 'monday-2202-1130': 0, 'monday-2202-0100': 0, 'monday-2202-0230': 0, 'monday-2301-0830': 0, 'monday-2301-1000': 0, 'monday-2301-1130': 0, 'monday-2301-0100': 0, 'monday-2301-0230': 0, 'tuesday-1930-0830': 0, 'tuesday-1930-1000': 0, 'tuesday-1930-1130': 0, 'tuesday-1930-0100': 0, 'tuesday-1930-0230': 0, 'tuesday-2001-0830': 0, 'tuesday-2001-1000': 0, 'tuesday-2001-1130': 0, 'tuesday-2001-0100': 0, 'tuesday-2001-0230': 0, 'tuesday-2002-0830': 0, 'tuesday-2002-1000': 0, 'tuesday-2002-1130': 0, 'tuesday-2002-0100': 0, 'tuesday-2002-0230': 0, 'tuesday-2003-0830': 0, 'tuesday-2003-1000': 0, 'tuesday-2003-1130': 0, 'tuesday-2003-0100': 0, 'tuesday-2003-0230': 0, 'tuesday-2101-0830': 0, 'tuesday-2101-1000': 0, 'tuesday-2101-1130': 0, 'tuesday-2101-0100': 0, 'tuesday-2101-0230': 0, 'tuesday-2102-0830': 0, 'tuesday-2102-1000': 0, 'tuesday-2102-1130': 0, 'tuesday-2102-0100': 0, 'tuesday-2102-0230': 0, 'tuesday-2103-0830': 0, 'tuesday-2103-1000': 0, 'tuesday-2103-1130': 0, 'tuesday-2103-0100': 0, 'tuesday-2103-0230': 0, 'tuesday-2201-0830': 0, 'tuesday-2201-1000': 0, 'tuesday-2201-1130': 0, 'tuesday-2201-0100': 0, 'tuesday-2201-0230': 0, 'tuesday-2202-0830': 0, 'tuesday-2202-1000': 0, 'tuesday-2202-1130': 0, 'tuesday-2202-0100': 0, 'tuesday-2202-0230': 0, 'tuesday-2301-0830': 0, 'tuesday-2301-1000': 0, 'tuesday-2301-1130': 0, 'tuesday-2301-0100': 0, 'tuesday-2301-0230': 0, 'wednesday-1930-0830': 0, 'wednesday-1930-1000': 0, 'wednesday-1930-1130': 0, 'wednesday-1930-0100': 0, 'wednesday-1930-0230': 0, 'wednesday-2001-0830': 0, 'wednesday-2001-1000': 0, 'wednesday-2001-1130': 0, 'wednesday-2001-0100': 0, 'wednesday-2001-0230': 0, 'wednesday-2002-0830': 0, 'wednesday-2002-1000': 0, 'wednesday-2002-1130': 0, 'wednesday-2002-0100': 0, 'wednesday-2002-0230': 0, 'wednesday-2003-0830': 0, 'wednesday-2003-1000': 0, 'wednesday-2003-1130': 0, 'wednesday-2003-0100': 0, 'wednesday-2003-0230': 0, 'wednesday-2101-0830': 0, 'wednesday-2101-1000': 0, 'wednesday-2101-1130': 0, 'wednesday-2101-0100': 0, 'wednesday-2101-0230': 0, 'wednesday-2102-0830': 0, 'wednesday-2102-1000': 0, 'wednesday-2102-1130': 0, 'wednesday-2102-0100': 0, 'wednesday-2102-0230': 0, 'wednesday-2103-0830': 0, 'wednesday-2103-1000': 0, 'wednesday-2103-1130': 0, 'wednesday-2103-0100': 0, 'wednesday-2103-0230': 0, 'wednesday-2201-0830': 0, 'wednesday-2201-1000': 0, 'wednesday-2201-1130': 0, 'wednesday-2201-0100': 0, 'wednesday-2201-0230': 0, 'wednesday-2202-0830': 0, 'wednesday-2202-1000': 0, 'wednesday-2202-1130': 0, 'wednesday-2202-0100': 0, 'wednesday-2202-0230': 0, 'wednesday-2301-0830': 0, 'wednesday-2301-1000': 0, 'wednesday-2301-1130': 0, 'wednesday-2301-0100': 0, 'wednesday-2301-0230': 0, 'thursday-1930-0830': 0, 'thursday-1930-1000': 0, 'thursday-1930-1130': 0, 'thursday-1930-0100': 0, 'thursday-1930-0230': 0, 'thursday-2001-0830': 0, 'thursday-2001-1000': 0, 'thursday-2001-1130': 0, 'thursday-2001-0100': 0, 'thursday-2001-0230': 0, 'thursday-2002-0830': 0, 'thursday-2002-1000': 0, 'thursday-2002-1130': 0, 'thursday-2002-0100': 0, 'thursday-2002-0230': 0, 'thursday-2003-0830': 0, 'thursday-2003-1000': 0, 'thursday-2003-1130': 0, 'thursday-2003-0100': 0, 'thursday-2003-0230': 0, 'thursday-2101-0830': 0, 'thursday-2101-1000': 0, 'thursday-2101-1130': 0, 'thursday-2101-0100': 0, 'thursday-2101-0230': 0, 'thursday-2102-0830': 0, 'thursday-2102-1000': 0, 'thursday-2102-1130': 0, 'thursday-2102-0100': 0, 'thursday-2102-0230': 0, 'thursday-2103-0830': 0, 'thursday-2103-1000': 0, 'thursday-2103-1130': 0, 'thursday-2103-0100': 0, 'thursday-2103-0230': 0, 'thursday-2201-0830': 0, 'thursday-2201-1000': 0, 'thursday-2201-1130': 0, 'thursday-2201-0100': 0, 'thursday-2201-0230': 0, 'thursday-2202-0830': 0, 'thursday-2202-1000': 0, 'thursday-2202-1130': 0, 'thursday-2202-0100': 0, 'thursday-2202-0230': 0, 'thursday-2301-0830': 0, 'thursday-2301-1000': 0, 'thursday-2301-1130': 0, 'thursday-2301-0100': 0, 'thursday-2301-0230': 0}\n"
     ]
    }
   ],
   "source": [
    "day  = ['sunday', 'monday', 'tuesday', 'wednesday', 'thursday']\n",
    "batch =['1930', '2001', '2002', '2003', '2101', '2102', '2103', '2201', '2202', '2301']\n",
    "time = ['0830', '1000', '1130', '0100', '0230']\n",
    "var  = {}\n",
    "list = []\n",
    "\n",
    "def CreateVar():\n",
    "    for i in day:\n",
    "        for j in batch:\n",
    "            for k in time:\n",
    "                list.append(i+'-'+j+'-'+ k)\n",
    "\n",
    "    for i in list:\n",
    "        var[i] = 0\n",
    "CreateVar()\n",
    "print(len(var))\n",
    "print(var)\n"
   ]
  },
  {
   "cell_type": "code",
   "execution_count": null,
   "id": "d10d9dfe",
   "metadata": {},
   "outputs": [],
   "source": []
  },
  {
   "cell_type": "code",
   "execution_count": null,
   "id": "4101f0a5",
   "metadata": {},
   "outputs": [],
   "source": []
  }
 ],
 "metadata": {
  "kernelspec": {
   "display_name": "Python 3 (ipykernel)",
   "language": "python",
   "name": "python3"
  },
  "language_info": {
   "codemirror_mode": {
    "name": "ipython",
    "version": 3
   },
   "file_extension": ".py",
   "mimetype": "text/x-python",
   "name": "python",
   "nbconvert_exporter": "python",
   "pygments_lexer": "ipython3",
   "version": "3.9.12"
  }
 },
 "nbformat": 4,
 "nbformat_minor": 5
}

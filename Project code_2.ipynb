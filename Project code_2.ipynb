{
 "cells": [
  {
   "cell_type": "code",
   "execution_count": 1,
   "id": "46c9619d",
   "metadata": {},
   "outputs": [
    {
     "name": "stdout",
     "output_type": "stream",
     "text": [
      "[[3 0 0 1]\n",
      " [0 1 3 2]\n",
      " [0 0 2 3]\n",
      " [0 0 0 4]]\n",
      "Valid Board\n"
     ]
    }
   ],
   "source": [
    "import numpy as np\n",
    "\n",
    "def createSudokuBoard():\n",
    "    board = [\n",
    "            [3, 0, 0, 1],\n",
    "            [0, 1, 3, 2],\n",
    "            [0, 0, 2, 3],\n",
    "            [0, 0, 0, 4]\n",
    "        ]\n",
    "    \n",
    "    board = np.array(board)\n",
    "    return board \n",
    "\n",
    "class Sudoku:\n",
    "    def isValidBoard(self, brd):\n",
    "        for x in range(4):\n",
    "            rowList = brd[x, :]\n",
    "            if (0 in rowList):\n",
    "                rowList = np.delete(rowList, np.where(rowList == 0))\n",
    "            \n",
    "            colList = brd[:, x]\n",
    "            if (0 in colList):\n",
    "                colList = np.delete(colList, np.where(colList == 0))\n",
    "            \n",
    "            if x == 0:\n",
    "                i, j = 0, 0\n",
    "            elif x == 1:\n",
    "                i, j = 0, 2\n",
    "            elif x == 2:\n",
    "                i, j = 2, 0\n",
    "            elif x == 3:\n",
    "                i, j = 2, 2\n",
    "                \n",
    "            subgridList = np.ravel( brd[i:i+2, j:j+2] )\n",
    "            if (0 in subgridList):\n",
    "                subgridList = np.delete(subgridList, np.where(subgridList == 0))\n",
    "\n",
    "            if ( len(set(rowList)) != len(rowList)\n",
    "                or len(set(colList)) != len(colList)\n",
    "                or len(set(subgridList)) != len(subgridList)\n",
    "            ):\n",
    "                return False\n",
    "        return True\n",
    "\n",
    "\n",
    "\n",
    "\n",
    "\n",
    "\n",
    "\n",
    "\n",
    "if __name__ == \"__main__\":\n",
    "    brd = createSudokuBoard()\n",
    "    print (brd)\n",
    "    \n",
    "    ob = Sudoku()\n",
    "    temp = ob.isValidBoard(brd)\n",
    "    if temp:\n",
    "        print (\"Valid Board\")\n",
    "    else:\n",
    "        print (\"Invalid Board\")\n",
    "\n"
   ]
  },
  {
   "cell_type": "code",
   "execution_count": null,
   "id": "671209fb",
   "metadata": {},
   "outputs": [],
   "source": []
  }
 ],
 "metadata": {
  "kernelspec": {
   "display_name": "Python 3 (ipykernel)",
   "language": "python",
   "name": "python3"
  },
  "language_info": {
   "codemirror_mode": {
    "name": "ipython",
    "version": 3
   },
   "file_extension": ".py",
   "mimetype": "text/x-python",
   "name": "python",
   "nbconvert_exporter": "python",
   "pygments_lexer": "ipython3",
   "version": "3.9.12"
  }
 },
 "nbformat": 4,
 "nbformat_minor": 5
}
